{
 "cells": [
  {
   "cell_type": "markdown",
   "metadata": {},
   "source": [
    "### Data Mining HW2\n",
    "### Finished by Zhuo Wen\n",
    "### Discussed with Yu Mo"
   ]
  },
  {
   "cell_type": "code",
   "execution_count": 1,
   "metadata": {},
   "outputs": [
    {
     "data": {
      "text/html": [
       "<div>\n",
       "<style scoped>\n",
       "    .dataframe tbody tr th:only-of-type {\n",
       "        vertical-align: middle;\n",
       "    }\n",
       "\n",
       "    .dataframe tbody tr th {\n",
       "        vertical-align: top;\n",
       "    }\n",
       "\n",
       "    .dataframe thead th {\n",
       "        text-align: right;\n",
       "    }\n",
       "</style>\n",
       "<table border=\"1\" class=\"dataframe\">\n",
       "  <thead>\n",
       "    <tr style=\"text-align: right;\">\n",
       "      <th></th>\n",
       "      <th>x</th>\n",
       "    </tr>\n",
       "  </thead>\n",
       "  <tbody>\n",
       "    <tr>\n",
       "      <th>1</th>\n",
       "      <td>1</td>\n",
       "    </tr>\n",
       "    <tr>\n",
       "      <th>2</th>\n",
       "      <td>2</td>\n",
       "    </tr>\n",
       "    <tr>\n",
       "      <th>3</th>\n",
       "      <td>1</td>\n",
       "    </tr>\n",
       "    <tr>\n",
       "      <th>4</th>\n",
       "      <td>2</td>\n",
       "    </tr>\n",
       "    <tr>\n",
       "      <th>5</th>\n",
       "      <td>1</td>\n",
       "    </tr>\n",
       "    <tr>\n",
       "      <th>...</th>\n",
       "      <td>...</td>\n",
       "    </tr>\n",
       "    <tr>\n",
       "      <th>99996</th>\n",
       "      <td>6</td>\n",
       "    </tr>\n",
       "    <tr>\n",
       "      <th>99997</th>\n",
       "      <td>10</td>\n",
       "    </tr>\n",
       "    <tr>\n",
       "      <th>99998</th>\n",
       "      <td>5</td>\n",
       "    </tr>\n",
       "    <tr>\n",
       "      <th>99999</th>\n",
       "      <td>1</td>\n",
       "    </tr>\n",
       "    <tr>\n",
       "      <th>100000</th>\n",
       "      <td>0</td>\n",
       "    </tr>\n",
       "  </tbody>\n",
       "</table>\n",
       "<p>100000 rows × 1 columns</p>\n",
       "</div>"
      ],
      "text/plain": [
       "         x\n",
       "1        1\n",
       "2        2\n",
       "3        1\n",
       "4        2\n",
       "5        1\n",
       "...     ..\n",
       "99996    6\n",
       "99997   10\n",
       "99998    5\n",
       "99999    1\n",
       "100000   0\n",
       "\n",
       "[100000 rows x 1 columns]"
      ]
     },
     "execution_count": 1,
     "metadata": {},
     "output_type": "execute_result"
    }
   ],
   "source": [
    "import pandas as pd\n",
    "data = pd.read_csv('count_data.csv',index_col=0)\n",
    "data"
   ]
  },
  {
   "cell_type": "markdown",
   "metadata": {},
   "source": [
    "## Q1: Assuming xi ∼ Pois(λ), estimate λ with Maximum Likelihood Estimation (MLE)."
   ]
  },
  {
   "cell_type": "markdown",
   "metadata": {},
   "source": [
    "<img src=\"Q1.jpg\" width=450>"
   ]
  },
  {
   "cell_type": "code",
   "execution_count": 2,
   "metadata": {},
   "outputs": [
    {
     "name": "stdout",
     "output_type": "stream",
     "text": [
      "The MLE estimation of lambda is:  4.01576\n"
     ]
    }
   ],
   "source": [
    "print(\"The MLE estimation of lambda is: \", data['x'].mean())"
   ]
  },
  {
   "cell_type": "markdown",
   "metadata": {},
   "source": [
    "## Q2: Assuming λ ∼ Gamma(α, β), estimate λ with Maximum A Posterior (MAP) and ﬁnd its posterior distribution."
   ]
  },
  {
   "cell_type": "markdown",
   "metadata": {},
   "source": [
    "<img src=\"Q2.jpg\" width=450>"
   ]
  },
  {
   "cell_type": "code",
   "execution_count": 3,
   "metadata": {},
   "outputs": [
    {
     "name": "stdout",
     "output_type": "stream",
     "text": [
      "The posterior distribution of lanmda is still a Gamma distribution\n",
      "The MAP estimation of lambda is  4.015539067655941\n"
     ]
    }
   ],
   "source": [
    "## Assume the initial alpha and beta here\n",
    "alpha = 3\n",
    "beta = 6\n",
    "print(\"The posterior distribution of lanmda is still a Gamma distribution\")\n",
    "print(\"The MAP estimation of lambda is \", (data['x'].sum()+alpha-1)/(beta+len(data)))"
   ]
  },
  {
   "cell_type": "markdown",
   "metadata": {},
   "source": [
    "## Q3: Finding the posterior distribution of λ given x1,...,xN/2, and compare it with the prior and the posterior given the full dataset.\n"
   ]
  },
  {
   "cell_type": "markdown",
   "metadata": {},
   "source": [
    "<img src=\"Q3.jpg\" width=450>"
   ]
  },
  {
   "cell_type": "markdown",
   "metadata": {},
   "source": [
    "## Q4: Plot the predictive distribution of a new data xN+1 given x1,...,xN under the Poisson distribution model (hint: using the histogram of simulated random samples)."
   ]
  },
  {
   "cell_type": "code",
   "execution_count": 4,
   "metadata": {},
   "outputs": [],
   "source": [
    "import matplotlib.pyplot as plt\n",
    "import numpy as np\n",
    "from scipy.stats import gamma\n",
    "from scipy.stats import poisson\n",
    "plt.style.use('seaborn-darkgrid')"
   ]
  },
  {
   "cell_type": "code",
   "execution_count": 5,
   "metadata": {},
   "outputs": [],
   "source": [
    "lambda_samples = gamma.rvs(data['x'].sum()+alpha, scale=1.0/(beta+len(data)), size=500)\n",
    "x_pred = [poisson.mean(mu=lambda_s) for lambda_s in lambda_samples]"
   ]
  },
  {
   "cell_type": "code",
   "execution_count": 6,
   "metadata": {},
   "outputs": [
    {
     "data": {
      "image/png": "[encoded data removed]",
      "text/plain": [
       "<Figure size 432x288 with 1 Axes>"
      ]
     },
     "metadata": {},
     "output_type": "display_data"
    }
   ],
   "source": [
    "plt.hist(x_pred, color='yellow')\n",
    "plt.title(\"Posterior predictive of the mean\")\n",
    "plt.ylabel(\"Frequency\")\n",
    "plt.grid(linestyle='--')\n",
    "plt.xlabel(\"mean(x_pred)\")\n",
    "plt.axvline(np.mean(x_pred))\n",
    "plt.show()"
   ]
  },
  {
   "cell_type": "markdown",
   "metadata": {},
   "source": [
    "## Q5: Assume xi ∼ NegativeBinomial(r,p), where the PMF of Negative Binominal distribution with parameter r and p is deﬁned as p(k). Now assume r = 1, estimate p using MLE."
   ]
  },
  {
   "cell_type": "markdown",
   "metadata": {},
   "source": [
    "<img src=\"Q5.jpg\" width=450>"
   ]
  },
  {
   "cell_type": "code",
   "execution_count": 7,
   "metadata": {},
   "outputs": [
    {
     "name": "stdout",
     "output_type": "stream",
     "text": [
      "The MLE estimation of p is:  0.8006284192226103\n"
     ]
    }
   ],
   "source": [
    "print(\"The MLE estimation of p is: \", data['x'].sum()/(data['x'].sum()+len(data)))"
   ]
  },
  {
   "cell_type": "markdown",
   "metadata": {},
   "source": [
    "## Q6: Assume p ∼ Beta(a,b), estimate p with MAP and ﬁnd the posterior distribution of p."
   ]
  },
  {
   "cell_type": "markdown",
   "metadata": {},
   "source": [
    "<img src=\"Q6.jpg\" width=450>"
   ]
  },
  {
   "cell_type": "code",
   "execution_count": 8,
   "metadata": {},
   "outputs": [
    {
     "name": "stdout",
     "output_type": "stream",
     "text": [
      "The posterior distribution of p is still a beta distribution\n",
      "The MAP estimation of p is  0.800628894955961\n"
     ]
    }
   ],
   "source": [
    "## Assume the initial a and b here\n",
    "a = 3\n",
    "b = 1.2\n",
    "print(\"The posterior distribution of p is still a beta distribution\")\n",
    "print(\"The MAP estimation of p is \", (data['x'].sum()+a-1)/(data['x'].sum()+a+b+len(data)-2))"
   ]
  },
  {
   "cell_type": "markdown",
   "metadata": {},
   "source": [
    "## Q7: Plot the predictive distribution of a new data xN+1 given x1,...,xN under the negative binomial distribution model (hint: using the histogram of simulated random samples)."
   ]
  },
  {
   "cell_type": "code",
   "execution_count": 9,
   "metadata": {},
   "outputs": [],
   "source": [
    "from scipy.stats import beta\n",
    "from scipy.stats import nbinom\n",
    "# Simulate the p\n",
    "p_samples = beta.rvs(a=data['x'].sum()+a, b=b+len(data), size=500)\n",
    "x_pred_1 = [nbinom.mean(n=1, p=1-p) for p in p_samples]"
   ]
  },
  {
   "cell_type": "code",
   "execution_count": 10,
   "metadata": {},
   "outputs": [
    {
     "data": {
      "image/png": "[encoded data removed]",
      "text/plain": [
       "<Figure size 432x288 with 1 Axes>"
      ]
     },
     "metadata": {},
     "output_type": "display_data"
    }
   ],
   "source": [
    "plt.hist(x_pred_1, color='red')\n",
    "plt.title(\"Posterior predictive of the mean\")\n",
    "plt.ylabel(\"Frequency\")\n",
    "plt.grid(linestyle='--')\n",
    "plt.xlabel(\"mean(x_pred)\")\n",
    "plt.axvline(np.mean(x_pred_1))\n",
    "plt.show()"
   ]
  }
 ],
 "metadata": {
  "file_extension": ".py",
  "kernelspec": {
   "display_name": "Python 3.7.6 64-bit ('base': conda)",
   "language": "python",
   "name": "python37664bitbaseconda7620b573b4cf49798ed72e9f2db53bb9"
  },
  "language_info": {
   "codemirror_mode": {
    "name": "ipython",
    "version": 3
   },
   "file_extension": ".py",
   "mimetype": "text/x-python",
   "name": "python",
   "nbconvert_exporter": "python",
   "pygments_lexer": "ipython3",
   "version": "3.7.6"
  },
  "mimetype": "text/x-python",
  "name": "python",
  "npconvert_exporter": "python",
  "pygments_lexer": "ipython3",
  "version": 3
 },
 "nbformat": 4,
 "nbformat_minor": 2
}
