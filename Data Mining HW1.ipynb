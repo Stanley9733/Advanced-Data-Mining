{
 "cells": [
  {
   "cell_type": "markdown",
   "metadata": {},
   "source": [
    "# Finished by Zhuo Wen"
   ]
  },
  {
   "cell_type": "markdown",
   "metadata": {},
   "source": [
    "## Problem 1"
   ]
  },
  {
   "cell_type": "markdown",
   "metadata": {},
   "source": [
    "H(S) = -$\\sum_{c\\in C}^{P_c* \\log _{2} P_c}$ = -$\\frac{1}{3}$* $\\log _{2} \\frac{1}{3}$ -$\\frac{2}{3}$* $\\log _{2} \\frac{2}{3}$ = 0.91826"
   ]
  },
  {
   "cell_type": "markdown",
   "metadata": {},
   "source": [
    "Split on X1 Information gain = 0.91826 - ($\\frac{2}{3} \\cdot 1 $) - ($\\frac{1}{3} \\cdot 0$) = 0.25163"
   ]
  },
  {
   "cell_type": "markdown",
   "metadata": {},
   "source": [
    "Split on X2 Information gain = 0.91826 - ($\\frac{1}{3} \\cdot 1 $) - ($\\frac{2}{3} \\cdot 0.81128$) = 0.04411"
   ]
  },
  {
   "cell_type": "markdown",
   "metadata": {},
   "source": [
    "Feautre X1 should be chosen for the split at the root of a decision tree since the information gain is greater."
   ]
  },
  {
   "cell_type": "markdown",
   "metadata": {},
   "source": [
    "## Problem 2"
   ]
  },
  {
   "cell_type": "markdown",
   "metadata": {},
   "source": [
    "(a). How many mistakes does best 1-leaf decision tree (no split at all) make over the training examples?"
   ]
  },
  {
   "cell_type": "code",
   "execution_count": 12,
   "metadata": {},
   "outputs": [
    {
     "data": {
      "text/plain": [
       "'data = [[0000],[0001],[0010],[0100],[1000],[0011],[0101],[1001],[1100],[0110],[1010],[1110],[1101],[1011],[1110],[1111]]'"
      ]
     },
     "metadata": {},
     "output_type": "display_data"
    },
    {
     "data": {
      "text/plain": [
       "'label=[0,0,1,1,1,1,1,1,1,1,1,1,1,1,1,1]'"
      ]
     },
     "metadata": {},
     "output_type": "display_data"
    }
   ],
   "source": [
    "display(\"data = [[0000],[0001],[0010],[0100],[1000],[0011],[0101],[1001],[1100],[0110],[1010],[1110],[1101],[1011],[1110],[1111]]\")\n",
    "display(\"label=[0,0,1,1,1,1,1,1,1,1,1,1,1,1,1,1]\")"
   ]
  },
  {
   "cell_type": "markdown",
   "metadata": {},
   "source": [
    "The best 1-leaf decision tree should classify all data points to label 1, so the number of mistakes is 2."
   ]
  },
  {
   "cell_type": "markdown",
   "metadata": {},
   "source": [
    "(b). Can you ﬁnd a new internal node based on your result on (a), so that the new decision tree has fewer mistakes?"
   ]
  },
  {
   "cell_type": "markdown",
   "metadata": {},
   "source": [
    "No, since if we just do one split, no matter which number (X1 or X2 or X3 or X4) we pick as the internal node, the number of mistake will always be  6."
   ]
  },
  {
   "cell_type": "markdown",
   "metadata": {},
   "source": [
    "(c). What is the entropy of the 1-leaf decision tree? (i.e., the entropy of y)"
   ]
  },
  {
   "cell_type": "markdown",
   "metadata": {},
   "source": [
    "H(Y) = -$\\sum_{c\\in C}^{P_c* \\log _{2} P_c}$ = -$\\frac{1}{8}$* $\\log _{2} \\frac{1}{8}$ -$\\frac{7}{8}$* $\\log _{2} \\frac{7}{8}$ = 0.54356"
   ]
  },
  {
   "cell_type": "markdown",
   "metadata": {},
   "source": [
    "(d). Can you ﬁnd a new internal node based on your result on (a), so that entropy of y can be reduced (i.e., information gain is positive)?"
   ]
  },
  {
   "cell_type": "markdown",
   "metadata": {},
   "source": [
    "The information gain for split on feature x1, x2 and x3 are the same which is 0.137925.\n",
    "And there is no information gain for spilt on X4. \n",
    "Therefore, split on either x1, x2 and x3 can reduce the information gain."
   ]
  },
  {
   "cell_type": "markdown",
   "metadata": {},
   "source": [
    "## Problem 3"
   ]
  },
  {
   "cell_type": "markdown",
   "metadata": {},
   "source": [
    "### In this section, we will use Decision Tree algorithm to solve a classiﬁcation problem. We will use the Zoo dataset from UC Irvine ML dataset, more information can be found on https://archive.ics.uci.edu/ml/datasets/zoo, please refer to the descriptions of features when answering the following questions."
   ]
  },
  {
   "cell_type": "markdown",
   "metadata": {},
   "source": [
    "(a). Load the data. Exclude the animal name column and split the data to features and targets/labels."
   ]
  },
  {
   "cell_type": "code",
   "execution_count": 5,
   "metadata": {},
   "outputs": [],
   "source": [
    "import pandas as pd\n",
    "import matplotlib.pyplot as plt\n",
    "from sklearn import tree\n",
    "url=\"https://archive.ics.uci.edu/ml/machine-learning-databases/zoo/zoo.data\"\n",
    "data = pd.read_csv(url, header=None)\n",
    "data = data.iloc[:,1:]\n",
    "X,y = data.iloc[:,:16] ,data.iloc[:,16]"
   ]
  },
  {
   "cell_type": "code",
   "execution_count": 6,
   "metadata": {},
   "outputs": [
    {
     "data": {
      "text/html": [
       "<div>\n",
       "<style scoped>\n",
       "    .dataframe tbody tr th:only-of-type {\n",
       "        vertical-align: middle;\n",
       "    }\n",
       "\n",
       "    .dataframe tbody tr th {\n",
       "        vertical-align: top;\n",
       "    }\n",
       "\n",
       "    .dataframe thead th {\n",
       "        text-align: right;\n",
       "    }\n",
       "</style>\n",
       "<table border=\"1\" class=\"dataframe\">\n",
       "  <thead>\n",
       "    <tr style=\"text-align: right;\">\n",
       "      <th></th>\n",
       "      <th>1</th>\n",
       "      <th>2</th>\n",
       "      <th>3</th>\n",
       "      <th>4</th>\n",
       "      <th>5</th>\n",
       "      <th>6</th>\n",
       "      <th>7</th>\n",
       "      <th>8</th>\n",
       "      <th>9</th>\n",
       "      <th>10</th>\n",
       "      <th>11</th>\n",
       "      <th>12</th>\n",
       "      <th>13</th>\n",
       "      <th>14</th>\n",
       "      <th>15</th>\n",
       "      <th>16</th>\n",
       "    </tr>\n",
       "  </thead>\n",
       "  <tbody>\n",
       "    <tr>\n",
       "      <th>0</th>\n",
       "      <td>1</td>\n",
       "      <td>0</td>\n",
       "      <td>0</td>\n",
       "      <td>1</td>\n",
       "      <td>0</td>\n",
       "      <td>0</td>\n",
       "      <td>1</td>\n",
       "      <td>1</td>\n",
       "      <td>1</td>\n",
       "      <td>1</td>\n",
       "      <td>0</td>\n",
       "      <td>0</td>\n",
       "      <td>4</td>\n",
       "      <td>0</td>\n",
       "      <td>0</td>\n",
       "      <td>1</td>\n",
       "    </tr>\n",
       "    <tr>\n",
       "      <th>1</th>\n",
       "      <td>1</td>\n",
       "      <td>0</td>\n",
       "      <td>0</td>\n",
       "      <td>1</td>\n",
       "      <td>0</td>\n",
       "      <td>0</td>\n",
       "      <td>0</td>\n",
       "      <td>1</td>\n",
       "      <td>1</td>\n",
       "      <td>1</td>\n",
       "      <td>0</td>\n",
       "      <td>0</td>\n",
       "      <td>4</td>\n",
       "      <td>1</td>\n",
       "      <td>0</td>\n",
       "      <td>1</td>\n",
       "    </tr>\n",
       "    <tr>\n",
       "      <th>2</th>\n",
       "      <td>0</td>\n",
       "      <td>0</td>\n",
       "      <td>1</td>\n",
       "      <td>0</td>\n",
       "      <td>0</td>\n",
       "      <td>1</td>\n",
       "      <td>1</td>\n",
       "      <td>1</td>\n",
       "      <td>1</td>\n",
       "      <td>0</td>\n",
       "      <td>0</td>\n",
       "      <td>1</td>\n",
       "      <td>0</td>\n",
       "      <td>1</td>\n",
       "      <td>0</td>\n",
       "      <td>0</td>\n",
       "    </tr>\n",
       "    <tr>\n",
       "      <th>3</th>\n",
       "      <td>1</td>\n",
       "      <td>0</td>\n",
       "      <td>0</td>\n",
       "      <td>1</td>\n",
       "      <td>0</td>\n",
       "      <td>0</td>\n",
       "      <td>1</td>\n",
       "      <td>1</td>\n",
       "      <td>1</td>\n",
       "      <td>1</td>\n",
       "      <td>0</td>\n",
       "      <td>0</td>\n",
       "      <td>4</td>\n",
       "      <td>0</td>\n",
       "      <td>0</td>\n",
       "      <td>1</td>\n",
       "    </tr>\n",
       "    <tr>\n",
       "      <th>4</th>\n",
       "      <td>1</td>\n",
       "      <td>0</td>\n",
       "      <td>0</td>\n",
       "      <td>1</td>\n",
       "      <td>0</td>\n",
       "      <td>0</td>\n",
       "      <td>1</td>\n",
       "      <td>1</td>\n",
       "      <td>1</td>\n",
       "      <td>1</td>\n",
       "      <td>0</td>\n",
       "      <td>0</td>\n",
       "      <td>4</td>\n",
       "      <td>1</td>\n",
       "      <td>0</td>\n",
       "      <td>1</td>\n",
       "    </tr>\n",
       "    <tr>\n",
       "      <th>...</th>\n",
       "      <td>...</td>\n",
       "      <td>...</td>\n",
       "      <td>...</td>\n",
       "      <td>...</td>\n",
       "      <td>...</td>\n",
       "      <td>...</td>\n",
       "      <td>...</td>\n",
       "      <td>...</td>\n",
       "      <td>...</td>\n",
       "      <td>...</td>\n",
       "      <td>...</td>\n",
       "      <td>...</td>\n",
       "      <td>...</td>\n",
       "      <td>...</td>\n",
       "      <td>...</td>\n",
       "      <td>...</td>\n",
       "    </tr>\n",
       "    <tr>\n",
       "      <th>96</th>\n",
       "      <td>1</td>\n",
       "      <td>0</td>\n",
       "      <td>0</td>\n",
       "      <td>1</td>\n",
       "      <td>0</td>\n",
       "      <td>0</td>\n",
       "      <td>0</td>\n",
       "      <td>1</td>\n",
       "      <td>1</td>\n",
       "      <td>1</td>\n",
       "      <td>0</td>\n",
       "      <td>0</td>\n",
       "      <td>2</td>\n",
       "      <td>1</td>\n",
       "      <td>0</td>\n",
       "      <td>1</td>\n",
       "    </tr>\n",
       "    <tr>\n",
       "      <th>97</th>\n",
       "      <td>1</td>\n",
       "      <td>0</td>\n",
       "      <td>1</td>\n",
       "      <td>0</td>\n",
       "      <td>1</td>\n",
       "      <td>0</td>\n",
       "      <td>0</td>\n",
       "      <td>0</td>\n",
       "      <td>0</td>\n",
       "      <td>1</td>\n",
       "      <td>1</td>\n",
       "      <td>0</td>\n",
       "      <td>6</td>\n",
       "      <td>0</td>\n",
       "      <td>0</td>\n",
       "      <td>0</td>\n",
       "    </tr>\n",
       "    <tr>\n",
       "      <th>98</th>\n",
       "      <td>1</td>\n",
       "      <td>0</td>\n",
       "      <td>0</td>\n",
       "      <td>1</td>\n",
       "      <td>0</td>\n",
       "      <td>0</td>\n",
       "      <td>1</td>\n",
       "      <td>1</td>\n",
       "      <td>1</td>\n",
       "      <td>1</td>\n",
       "      <td>0</td>\n",
       "      <td>0</td>\n",
       "      <td>4</td>\n",
       "      <td>1</td>\n",
       "      <td>0</td>\n",
       "      <td>1</td>\n",
       "    </tr>\n",
       "    <tr>\n",
       "      <th>99</th>\n",
       "      <td>0</td>\n",
       "      <td>0</td>\n",
       "      <td>1</td>\n",
       "      <td>0</td>\n",
       "      <td>0</td>\n",
       "      <td>0</td>\n",
       "      <td>0</td>\n",
       "      <td>0</td>\n",
       "      <td>0</td>\n",
       "      <td>1</td>\n",
       "      <td>0</td>\n",
       "      <td>0</td>\n",
       "      <td>0</td>\n",
       "      <td>0</td>\n",
       "      <td>0</td>\n",
       "      <td>0</td>\n",
       "    </tr>\n",
       "    <tr>\n",
       "      <th>100</th>\n",
       "      <td>0</td>\n",
       "      <td>1</td>\n",
       "      <td>1</td>\n",
       "      <td>0</td>\n",
       "      <td>1</td>\n",
       "      <td>0</td>\n",
       "      <td>0</td>\n",
       "      <td>0</td>\n",
       "      <td>1</td>\n",
       "      <td>1</td>\n",
       "      <td>0</td>\n",
       "      <td>0</td>\n",
       "      <td>2</td>\n",
       "      <td>1</td>\n",
       "      <td>0</td>\n",
       "      <td>0</td>\n",
       "    </tr>\n",
       "  </tbody>\n",
       "</table>\n",
       "<p>101 rows × 16 columns</p>\n",
       "</div>"
      ],
      "text/plain": [
       "     1   2   3   4   5   6   7   8   9   10  11  12  13  14  15  16\n",
       "0     1   0   0   1   0   0   1   1   1   1   0   0   4   0   0   1\n",
       "1     1   0   0   1   0   0   0   1   1   1   0   0   4   1   0   1\n",
       "2     0   0   1   0   0   1   1   1   1   0   0   1   0   1   0   0\n",
       "3     1   0   0   1   0   0   1   1   1   1   0   0   4   0   0   1\n",
       "4     1   0   0   1   0   0   1   1   1   1   0   0   4   1   0   1\n",
       "..   ..  ..  ..  ..  ..  ..  ..  ..  ..  ..  ..  ..  ..  ..  ..  ..\n",
       "96    1   0   0   1   0   0   0   1   1   1   0   0   2   1   0   1\n",
       "97    1   0   1   0   1   0   0   0   0   1   1   0   6   0   0   0\n",
       "98    1   0   0   1   0   0   1   1   1   1   0   0   4   1   0   1\n",
       "99    0   0   1   0   0   0   0   0   0   1   0   0   0   0   0   0\n",
       "100   0   1   1   0   1   0   0   0   1   1   0   0   2   1   0   0\n",
       "\n",
       "[101 rows x 16 columns]"
      ]
     },
     "execution_count": 6,
     "metadata": {},
     "output_type": "execute_result"
    }
   ],
   "source": [
    "X"
   ]
  },
  {
   "cell_type": "markdown",
   "metadata": {},
   "source": [
    "(b). Run the algorithm with default hyperparameters on the whole dataset, show the top 3 most important features for classiﬁcation, and plot the decision tree. (Use plot tree function from scikit-learn package)"
   ]
  },
  {
   "cell_type": "code",
   "execution_count": 7,
   "metadata": {},
   "outputs": [
    {
     "name": "stdout",
     "output_type": "stream",
     "text": [
      "[0.         0.21449135 0.02086238 0.38586367 0.07243882 0.03708868\n",
      " 0.01738532 0.         0.07919978 0.         0.         0.14659203\n",
      " 0.02607798 0.         0.         0.        ]\n",
      "Top 3 important features: milk (0.38237), feathers(0.21449), fins(0.146592).\n"
     ]
    }
   ],
   "source": [
    "classifier = tree.DecisionTreeClassifier()\n",
    "classifier.fit(X, y)\n",
    "print(classifier.feature_importances_)\n",
    "print(\"Top 3 important features: milk (0.38237), feathers(0.21449), fins(0.146592).\")"
   ]
  },
  {
   "cell_type": "code",
   "execution_count": 8,
   "metadata": {},
   "outputs": [
    {
     "data": {
      "text/plain": [
       "[Text(273.92727272727274, 203.85, 'X[3] <= 0.5\\ngini = 0.759\\nsamples = 101\\nvalue = [41, 20, 5, 13, 4, 8, 10]'),\n",
       " Text(243.4909090909091, 176.67000000000002, 'X[1] <= 0.5\\ngini = 0.785\\nsamples = 60\\nvalue = [0, 20, 5, 13, 4, 8, 10]'),\n",
       " Text(213.05454545454546, 149.49, 'X[11] <= 0.5\\ngini = 0.766\\nsamples = 40\\nvalue = [0, 0, 5, 13, 4, 8, 10]'),\n",
       " Text(182.61818181818182, 122.31, 'X[8] <= 0.5\\ngini = 0.719\\nsamples = 27\\nvalue = [0, 0, 5, 0, 4, 8, 10]'),\n",
       " Text(121.74545454545455, 95.13, 'X[4] <= 0.5\\ngini = 0.494\\nsamples = 18\\nvalue = [0, 0, 0, 0, 0, 8, 10]'),\n",
       " Text(91.30909090909091, 67.94999999999999, 'X[6] <= 0.5\\ngini = 0.278\\nsamples = 12\\nvalue = [0, 0, 0, 0, 0, 2, 10]'),\n",
       " Text(60.872727272727275, 40.77000000000001, 'X[12] <= 3.0\\ngini = 0.5\\nsamples = 4\\nvalue = [0, 0, 0, 0, 0, 2, 2]'),\n",
       " Text(30.436363636363637, 13.590000000000003, 'gini = 0.0\\nsamples = 2\\nvalue = [0, 0, 0, 0, 0, 0, 2]'),\n",
       " Text(91.30909090909091, 13.590000000000003, 'gini = 0.0\\nsamples = 2\\nvalue = [0, 0, 0, 0, 0, 2, 0]'),\n",
       " Text(121.74545454545455, 40.77000000000001, 'gini = 0.0\\nsamples = 8\\nvalue = [0, 0, 0, 0, 0, 0, 8]'),\n",
       " Text(152.1818181818182, 67.94999999999999, 'gini = 0.0\\nsamples = 6\\nvalue = [0, 0, 0, 0, 0, 6, 0]'),\n",
       " Text(243.4909090909091, 95.13, 'X[5] <= 0.5\\ngini = 0.494\\nsamples = 9\\nvalue = [0, 0, 5, 0, 4, 0, 0]'),\n",
       " Text(213.05454545454546, 67.94999999999999, 'gini = 0.0\\nsamples = 4\\nvalue = [0, 0, 4, 0, 0, 0, 0]'),\n",
       " Text(273.92727272727274, 67.94999999999999, 'X[9] <= 0.5\\ngini = 0.32\\nsamples = 5\\nvalue = [0, 0, 1, 0, 4, 0, 0]'),\n",
       " Text(243.4909090909091, 40.77000000000001, 'gini = 0.0\\nsamples = 1\\nvalue = [0, 0, 1, 0, 0, 0, 0]'),\n",
       " Text(304.3636363636364, 40.77000000000001, 'gini = 0.0\\nsamples = 4\\nvalue = [0, 0, 0, 0, 4, 0, 0]'),\n",
       " Text(243.4909090909091, 122.31, 'gini = 0.0\\nsamples = 13\\nvalue = [0, 0, 0, 13, 0, 0, 0]'),\n",
       " Text(273.92727272727274, 149.49, 'gini = 0.0\\nsamples = 20\\nvalue = [0, 20, 0, 0, 0, 0, 0]'),\n",
       " Text(304.3636363636364, 176.67000000000002, 'gini = 0.0\\nsamples = 41\\nvalue = [41, 0, 0, 0, 0, 0, 0]')]"
      ]
     },
     "execution_count": 8,
     "metadata": {},
     "output_type": "execute_result"
    },
    {
     "data": {
      "image/png": "[encoded data removed]",
      "text/plain": [
       "<Figure size 432x288 with 1 Axes>"
      ]
     },
     "metadata": {
      "needs_background": "light"
     },
     "output_type": "display_data"
    }
   ],
   "source": [
    "tree.plot_tree(classifier.fit(X, y)) "
   ]
  },
  {
   "cell_type": "markdown",
   "metadata": {},
   "source": [
    "(c). Choose any one hyperparameter, understand its roles in the algorithm and explain its relationship to overﬁt problem. (i.e., whether the value of a particular parameter is related to “overﬁt:” positively correlated, negatively correlated, no clear relation, etc.)"
   ]
  },
  {
   "cell_type": "markdown",
   "metadata": {},
   "source": [
    "The hyperparameter min_samples_split is the minimum number of samples required to split an internal node. If we have to many splits which might result in just one or two samples in the end of each split, and this leads to overfitting. So to avoid overfitting, we should make min_samples_split bigger. "
   ]
  },
  {
   "cell_type": "markdown",
   "metadata": {},
   "source": [
    "(d). Split the data to training and validation part (use 5-fold cross validation), pick 5 diﬀerent values for the hyperparameter you chose on (b), plot the average accuracy on validation set vs the hyperparameter, you can also use cross val score function for simplicity. (For example, if you choose max depth, try running the algorithm with max depth equals to [1,3,5,7,9] and get 5 average accuracies, then plot the curve)."
   ]
  },
  {
   "cell_type": "code",
   "execution_count": 11,
   "metadata": {},
   "outputs": [],
   "source": [
    "from sklearn.model_selection import cross_val_score\n",
    "import warnings\n",
    "warnings.filterwarnings('ignore')"
   ]
  },
  {
   "cell_type": "code",
   "execution_count": 12,
   "metadata": {},
   "outputs": [
    {
     "name": "stdout",
     "output_type": "stream",
     "text": [
      "[0.95238095 0.85       0.95       0.9        0.95      ]\n",
      "[0.95238095 0.85       0.95       0.9        0.95      ]\n",
      "[0.95238095 0.85       0.95       0.9        0.95      ]\n",
      "[0.9047619 0.85      0.9       0.9       0.9      ]\n",
      "[0.9047619 0.9       0.9       0.9       0.9      ]\n",
      "[0.9047619 0.9       0.9       0.85      0.9      ]\n",
      "[0.9047619 0.9       0.9       0.85      0.9      ]\n",
      "[0.9047619 0.9       0.9       0.85      0.9      ]\n",
      "[0.9047619 0.9       0.9       0.85      0.9      ]\n",
      "[0.9047619 0.9       0.9       0.85      0.9      ]\n",
      "[0.85714286 0.9        0.9        0.85       0.85      ]\n",
      "[0.85714286 0.9        0.9        0.85       0.85      ]\n",
      "[0.85714286 0.9        0.9        0.85       0.85      ]\n",
      "[0.85714286 0.9        0.9        0.85       0.85      ]\n",
      "[0.85714286 0.9        0.9        0.85       0.85      ]\n"
     ]
    }
   ],
   "source": [
    "dictaccuracy = []\n",
    "for m in range(5,20):\n",
    "    classifier = tree.DecisionTreeClassifier(min_samples_split=m,random_state=0)\n",
    "    classifier.fit(X, y)\n",
    "    print(cross_val_score(classifier, X, y, cv=5))\n",
    "    dictaccuracy.append(cross_val_score(classifier, X, y, cv=5).mean())"
   ]
  },
  {
   "cell_type": "code",
   "execution_count": 13,
   "metadata": {
    "scrolled": true
   },
   "outputs": [
    {
     "name": "stdout",
     "output_type": "stream",
     "text": [
      "[0.9204761904761904, 0.9204761904761904, 0.9204761904761904, 0.8909523809523809, 0.900952380952381, 0.8909523809523809, 0.8909523809523809, 0.8909523809523809, 0.8909523809523809, 0.8909523809523809, 0.8714285714285713, 0.8714285714285713, 0.8714285714285713, 0.8714285714285713, 0.8714285714285713]\n"
     ]
    }
   ],
   "source": [
    "print(dictaccuracy)"
   ]
  },
  {
   "cell_type": "code",
   "execution_count": 15,
   "metadata": {},
   "outputs": [
    {
     "data": {
      "text/plain": [
       "[<matplotlib.lines.Line2D at 0x199a35d5e88>]"
      ]
     },
     "execution_count": 15,
     "metadata": {},
     "output_type": "execute_result"
    },
    {
     "data": {
      "image/png": "[encoded data removed]",
      "text/plain": [
       "<Figure size 432x288 with 1 Axes>"
      ]
     },
     "metadata": {
      "needs_background": "light"
     },
     "output_type": "display_data"
    }
   ],
   "source": [
    "plt.xlabel(\"min_samples_split\")\n",
    "plt.xticks(range(5,20))\n",
    "plt.ylabel(\"Accuracy rate\")\n",
    "plt.plot(range(5,20),dictaccuracy)"
   ]
  },
  {
   "cell_type": "markdown",
   "metadata": {},
   "source": [
    "(e). Based on your result from (c), do you see the overﬁt phenomenon? Explain why you would see or not see it on this dataset."
   ]
  },
  {
   "cell_type": "markdown",
   "metadata": {},
   "source": [
    "I do not see the overﬁt phenomenon since the aaccuacy rates stay stable across 15 different test sets. Maybe the reason is the training set and validation set has the same pattern or they are very consistent which make prediction work easier. And there is not too much noise in the dataset."
   ]
  },
  {
   "cell_type": "code",
   "execution_count": null,
   "metadata": {},
   "outputs": [],
   "source": []
  }
 ],
 "metadata": {
  "file_extension": ".py",
  "kernelspec": {
   "display_name": "Python 3.7.6 64-bit ('base': conda)",
   "language": "python",
   "name": "python37664bitbaseconda7620b573b4cf49798ed72e9f2db53bb9"
  },
  "language_info": {
   "codemirror_mode": {
    "name": "ipython",
    "version": 3
   },
   "file_extension": ".py",
   "mimetype": "text/x-python",
   "name": "python",
   "nbconvert_exporter": "python",
   "pygments_lexer": "ipython3",
   "version": "3.7.6"
  },
  "mimetype": "text/x-python",
  "name": "python",
  "npconvert_exporter": "python",
  "pygments_lexer": "ipython3",
  "version": 3
 },
 "nbformat": 4,
 "nbformat_minor": 2
}
